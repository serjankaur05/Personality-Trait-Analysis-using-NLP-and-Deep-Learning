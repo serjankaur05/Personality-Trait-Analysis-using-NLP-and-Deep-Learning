{
  "cells": [
    {
      "cell_type": "markdown",
      "metadata": {
        "id": "view-in-github",
        "colab_type": "text"
      },
      "source": [
        "<a href=\"https://colab.research.google.com/github/serjankaur05/Personality-Trait-Analysis-using-NLP-and-Deep-Learning/blob/master/PersonalityAnalysis.ipynb\" target=\"_parent\"><img src=\"https://colab.research.google.com/assets/colab-badge.svg\" alt=\"Open In Colab\"/></a>"
      ]
    },
    {
      "cell_type": "code",
      "execution_count": null,
      "metadata": {
        "id": "CXsfotfvwq1E",
        "colab": {
          "base_uri": "https://localhost:8080/"
        },
        "outputId": "a8cb0461-28cc-485d-c099-f4120a10f6c3"
      },
      "outputs": [
        {
          "output_type": "stream",
          "name": "stdout",
          "text": [
            "[nltk_data] Downloading package stopwords to /root/nltk_data...\n",
            "[nltk_data]   Package stopwords is already up-to-date!\n"
          ]
        },
        {
          "output_type": "execute_result",
          "data": {
            "text/plain": [
              "True"
            ]
          },
          "metadata": {},
          "execution_count": 77
        }
      ],
      "source": [
        "#importing libraries\n",
        "import numpy as np\n",
        "import pandas as pd\n",
        "import matplotlib.pyplot as plt\n",
        "import re\n",
        "import string\n",
        "import nltk \n",
        "nltk.download('stopwords')"
      ]
    },
    {
      "cell_type": "code",
      "execution_count": null,
      "metadata": {
        "colab": {
          "base_uri": "https://localhost:8080/",
          "height": 206
        },
        "id": "MSXFbhOXx4XM",
        "outputId": "37024e61-32dc-4ea5-e5da-6f65fb73de5c"
      },
      "outputs": [
        {
          "output_type": "execute_result",
          "data": {
            "text/plain": [
              "   type                                              posts\n",
              "0  INFJ  'http://www.youtube.com/watch?v=qsxhcwe3krw|||...\n",
              "1  ENTP  'i'm finding the lack of me in these posts ver...\n",
              "2  INTP  'good one  _____   https://www.youtube.com/wat...\n",
              "3  INTJ  'dear intp,   i enjoyed our conversation the o...\n",
              "4  ENTJ  'you're fired.|||that's another silly misconce..."
            ],
            "text/html": [
              "\n",
              "  <div id=\"df-63bc1e33-954c-4557-9ff9-57b547dd0c99\">\n",
              "    <div class=\"colab-df-container\">\n",
              "      <div>\n",
              "<style scoped>\n",
              "    .dataframe tbody tr th:only-of-type {\n",
              "        vertical-align: middle;\n",
              "    }\n",
              "\n",
              "    .dataframe tbody tr th {\n",
              "        vertical-align: top;\n",
              "    }\n",
              "\n",
              "    .dataframe thead th {\n",
              "        text-align: right;\n",
              "    }\n",
              "</style>\n",
              "<table border=\"1\" class=\"dataframe\">\n",
              "  <thead>\n",
              "    <tr style=\"text-align: right;\">\n",
              "      <th></th>\n",
              "      <th>type</th>\n",
              "      <th>posts</th>\n",
              "    </tr>\n",
              "  </thead>\n",
              "  <tbody>\n",
              "    <tr>\n",
              "      <th>0</th>\n",
              "      <td>INFJ</td>\n",
              "      <td>'http://www.youtube.com/watch?v=qsxhcwe3krw|||...</td>\n",
              "    </tr>\n",
              "    <tr>\n",
              "      <th>1</th>\n",
              "      <td>ENTP</td>\n",
              "      <td>'i'm finding the lack of me in these posts ver...</td>\n",
              "    </tr>\n",
              "    <tr>\n",
              "      <th>2</th>\n",
              "      <td>INTP</td>\n",
              "      <td>'good one  _____   https://www.youtube.com/wat...</td>\n",
              "    </tr>\n",
              "    <tr>\n",
              "      <th>3</th>\n",
              "      <td>INTJ</td>\n",
              "      <td>'dear intp,   i enjoyed our conversation the o...</td>\n",
              "    </tr>\n",
              "    <tr>\n",
              "      <th>4</th>\n",
              "      <td>ENTJ</td>\n",
              "      <td>'you're fired.|||that's another silly misconce...</td>\n",
              "    </tr>\n",
              "  </tbody>\n",
              "</table>\n",
              "</div>\n",
              "      <button class=\"colab-df-convert\" onclick=\"convertToInteractive('df-63bc1e33-954c-4557-9ff9-57b547dd0c99')\"\n",
              "              title=\"Convert this dataframe to an interactive table.\"\n",
              "              style=\"display:none;\">\n",
              "        \n",
              "  <svg xmlns=\"http://www.w3.org/2000/svg\" height=\"24px\"viewBox=\"0 0 24 24\"\n",
              "       width=\"24px\">\n",
              "    <path d=\"M0 0h24v24H0V0z\" fill=\"none\"/>\n",
              "    <path d=\"M18.56 5.44l.94 2.06.94-2.06 2.06-.94-2.06-.94-.94-2.06-.94 2.06-2.06.94zm-11 1L8.5 8.5l.94-2.06 2.06-.94-2.06-.94L8.5 2.5l-.94 2.06-2.06.94zm10 10l.94 2.06.94-2.06 2.06-.94-2.06-.94-.94-2.06-.94 2.06-2.06.94z\"/><path d=\"M17.41 7.96l-1.37-1.37c-.4-.4-.92-.59-1.43-.59-.52 0-1.04.2-1.43.59L10.3 9.45l-7.72 7.72c-.78.78-.78 2.05 0 2.83L4 21.41c.39.39.9.59 1.41.59.51 0 1.02-.2 1.41-.59l7.78-7.78 2.81-2.81c.8-.78.8-2.07 0-2.86zM5.41 20L4 18.59l7.72-7.72 1.47 1.35L5.41 20z\"/>\n",
              "  </svg>\n",
              "      </button>\n",
              "      \n",
              "  <style>\n",
              "    .colab-df-container {\n",
              "      display:flex;\n",
              "      flex-wrap:wrap;\n",
              "      gap: 12px;\n",
              "    }\n",
              "\n",
              "    .colab-df-convert {\n",
              "      background-color: #E8F0FE;\n",
              "      border: none;\n",
              "      border-radius: 50%;\n",
              "      cursor: pointer;\n",
              "      display: none;\n",
              "      fill: #1967D2;\n",
              "      height: 32px;\n",
              "      padding: 0 0 0 0;\n",
              "      width: 32px;\n",
              "    }\n",
              "\n",
              "    .colab-df-convert:hover {\n",
              "      background-color: #E2EBFA;\n",
              "      box-shadow: 0px 1px 2px rgba(60, 64, 67, 0.3), 0px 1px 3px 1px rgba(60, 64, 67, 0.15);\n",
              "      fill: #174EA6;\n",
              "    }\n",
              "\n",
              "    [theme=dark] .colab-df-convert {\n",
              "      background-color: #3B4455;\n",
              "      fill: #D2E3FC;\n",
              "    }\n",
              "\n",
              "    [theme=dark] .colab-df-convert:hover {\n",
              "      background-color: #434B5C;\n",
              "      box-shadow: 0px 1px 3px 1px rgba(0, 0, 0, 0.15);\n",
              "      filter: drop-shadow(0px 1px 2px rgba(0, 0, 0, 0.3));\n",
              "      fill: #FFFFFF;\n",
              "    }\n",
              "  </style>\n",
              "\n",
              "      <script>\n",
              "        const buttonEl =\n",
              "          document.querySelector('#df-63bc1e33-954c-4557-9ff9-57b547dd0c99 button.colab-df-convert');\n",
              "        buttonEl.style.display =\n",
              "          google.colab.kernel.accessAllowed ? 'block' : 'none';\n",
              "\n",
              "        async function convertToInteractive(key) {\n",
              "          const element = document.querySelector('#df-63bc1e33-954c-4557-9ff9-57b547dd0c99');\n",
              "          const dataTable =\n",
              "            await google.colab.kernel.invokeFunction('convertToInteractive',\n",
              "                                                     [key], {});\n",
              "          if (!dataTable) return;\n",
              "\n",
              "          const docLinkHtml = 'Like what you see? Visit the ' +\n",
              "            '<a target=\"_blank\" href=https://colab.research.google.com/notebooks/data_table.ipynb>data table notebook</a>'\n",
              "            + ' to learn more about interactive tables.';\n",
              "          element.innerHTML = '';\n",
              "          dataTable['output_type'] = 'display_data';\n",
              "          await google.colab.output.renderOutput(dataTable, element);\n",
              "          const docLink = document.createElement('div');\n",
              "          docLink.innerHTML = docLinkHtml;\n",
              "          element.appendChild(docLink);\n",
              "        }\n",
              "      </script>\n",
              "    </div>\n",
              "  </div>\n",
              "  "
            ]
          },
          "metadata": {},
          "execution_count": 78
        }
      ],
      "source": [
        "df = pd.read_csv('mbti_1.csv')\n",
        "#convert to lowercase \n",
        "df['posts'] = [i.lower() for i in df['posts']]\n",
        "\n",
        "df.head()"
      ]
    },
    {
      "cell_type": "code",
      "execution_count": null,
      "metadata": {
        "colab": {
          "base_uri": "https://localhost:8080/",
          "height": 312
        },
        "id": "MfhceuzzyFYy",
        "outputId": "5977cc34-069b-4c6a-a150-9b6108da02db"
      },
      "outputs": [
        {
          "output_type": "execute_result",
          "data": {
            "text/plain": [
              "<matplotlib.axes._subplots.AxesSubplot at 0x7f0e07a87ad0>"
            ]
          },
          "metadata": {},
          "execution_count": 79
        },
        {
          "output_type": "display_data",
          "data": {
            "text/plain": [
              "<Figure size 432x288 with 1 Axes>"
            ],
            "image/png": "[encoded data removed]"
          },
          "metadata": {
            "needs_background": "light"
          }
        }
      ],
      "source": [
        "#get a visual for the types\n",
        "no_groups = df.groupby('type').count()\n",
        "no_groups['posts'].plot(kind= 'bar')"
      ]
    },
    {
      "cell_type": "code",
      "execution_count": null,
      "metadata": {
        "colab": {
          "base_uri": "https://localhost:8080/"
        },
        "id": "O8b63P_gyqMc",
        "outputId": "62b9d498-2d07-4c61-d476-01e45f0e24d1"
      },
      "outputs": [
        {
          "output_type": "execute_result",
          "data": {
            "text/plain": [
              "<bound method DataFrame.info of       type                                              posts\n",
              "0     INFJ  'http://www.youtube.com/watch?v=qsxhcwe3krw|||...\n",
              "1     ENTP  'i'm finding the lack of me in these posts ver...\n",
              "2     INTP  'good one  _____   https://www.youtube.com/wat...\n",
              "3     INTJ  'dear intp,   i enjoyed our conversation the o...\n",
              "4     ENTJ  'you're fired.|||that's another silly misconce...\n",
              "...    ...                                                ...\n",
              "8670  ISFP  'https://www.youtube.com/watch?v=t8edhb_h908||...\n",
              "8671  ENFP  'so...if this thread already exists someplace ...\n",
              "8672  INTP  'so many questions when i do these things.  i ...\n",
              "8673  INFP  'i am very conflicted right now when it comes ...\n",
              "8674  INFP  'it has been too long since i have been on per...\n",
              "\n",
              "[8675 rows x 2 columns]>"
            ]
          },
          "metadata": {},
          "execution_count": 80
        }
      ],
      "source": [
        "df.info"
      ]
    },
    {
      "cell_type": "code",
      "source": [
        "df['Distinct Posts'] = [i.split('|||') for i in df['posts']]\n",
        "df['Distinct Posts']"
      ],
      "metadata": {
        "id": "b5iErDyu4XZH",
        "colab": {
          "base_uri": "https://localhost:8080/"
        },
        "outputId": "409d935c-2a3f-49d6-95e4-c7ca7b002b88"
      },
      "execution_count": null,
      "outputs": [
        {
          "output_type": "execute_result",
          "data": {
            "text/plain": [
              "0       ['http://www.youtube.com/watch?v=qsxhcwe3krw, ...\n",
              "1       ['i'm finding the lack of me in these posts ve...\n",
              "2       ['good one  _____   https://www.youtube.com/wa...\n",
              "3       ['dear intp,   i enjoyed our conversation the ...\n",
              "4       ['you're fired., that's another silly misconce...\n",
              "                              ...                        \n",
              "8670    ['https://www.youtube.com/watch?v=t8edhb_h908,...\n",
              "8671    ['so...if this thread already exists someplace...\n",
              "8672    ['so many questions when i do these things.  i...\n",
              "8673    ['i am very conflicted right now when it comes...\n",
              "8674    ['it has been too long since i have been on pe...\n",
              "Name: Distinct Posts, Length: 8675, dtype: object"
            ]
          },
          "metadata": {},
          "execution_count": 81
        }
      ]
    },
    {
      "cell_type": "code",
      "source": [
        "df['Number of posts'] = df['Distinct Posts'].apply(len)\n",
        "df.drop('Distinct Posts',inplace=True,axis=1)"
      ],
      "metadata": {
        "id": "DwR3JWbh4h6w"
      },
      "execution_count": null,
      "outputs": []
    },
    {
      "cell_type": "code",
      "source": [
        "df = df[df['Number of posts']==50]\n"
      ],
      "metadata": {
        "id": "p4WcJTaX4qCK"
      },
      "execution_count": null,
      "outputs": []
    },
    {
      "cell_type": "code",
      "source": [
        "#cleaning dataset\n",
        "#remove puncutation \n",
        "import re\n",
        "df['Posts'] = df['posts'].apply(lambda x: re.sub(r'https?:[?:A-Za-z0-9//_?.=/-]+', '', x.replace('|','')))\n",
        "df['Posts']=df['Posts'].apply(lambda x: re.sub(r'\\w*\\d\\w*', '', x))\n",
        "# removing special symbols\n",
        "df['Posts']=df['Posts'].apply(lambda x: re.sub(r'[0-9,.\"\\'*.?/\\()@#!$%&^+]', '', x))\n",
        "# removing repetitive multiple letter words and too long or too short words\n",
        "df['Posts'] = df['Posts'].apply(lambda x: re.sub(r'([a-z])\\1{2,}[\\s|\\w]*','',x)) \n",
        "df['Posts'] = df['Posts'].apply(lambda x: re.sub(r'(\\b\\w{0,3})?\\b','',x)) \n",
        "df['Posts'] = df['Posts'].apply(lambda x: re.sub(r'(\\b\\w{30,1000})?\\b','',x))\n",
        "#df['Posts'] = df['Posts'].apply(lambda x: re.sub(r'\\s[\\s+]','',x))\n",
        "df.drop('posts',inplace=True,axis=1)\n",
        "df.to_csv('mbti_cleaned.csv')"
      ],
      "metadata": {
        "id": "H9djdwNMrJFk"
      },
      "execution_count": null,
      "outputs": []
    },
    {
      "cell_type": "code",
      "source": [
        "data = pd.read_csv('mbti_cleaned.csv')\n",
        "x = data['type']\n",
        "data.drop(['Unnamed: 0', 'type'], axis = 1,inplace = True)\n",
        "data['type'] = x\n",
        "data"
      ],
      "metadata": {
        "colab": {
          "base_uri": "https://localhost:8080/",
          "height": 424
        },
        "id": "WPivY1ok4IZV",
        "outputId": "84782eb9-23b1-4279-ab2d-827bc6fa308c"
      },
      "execution_count": null,
      "outputs": [
        {
          "output_type": "execute_result",
          "data": {
            "text/plain": [
              "      Number of posts                                              Posts  type\n",
              "0                  50    intj moments    sportscenter    plays    pra...  INFJ\n",
              "1                  50   finding  lack    these posts very alarmingsex...  ENTP\n",
              "2                  50  good   _____    course  which    know; thats  ...  INTP\n",
              "3                  50  dear intp    enjoyed  conversation  other   es...  INTJ\n",
              "4                  50  youre firedthats another silly misconception t...  ENTJ\n",
              "...               ...                                                ...   ...\n",
              "7582               50   just because  always think  cats   doms  some...  ISFP\n",
              "7583               50  soif this thread already exists someplace else...  ENFP\n",
              "7584               50   many questions when   these things   would ta...  INTP\n",
              "7585               50    very conflicted right  when  comes  wanting ...  INFP\n",
              "7586               50    been  long since  have been  personalitycafe...  INFP\n",
              "\n",
              "[7587 rows x 3 columns]"
            ],
            "text/html": [
              "\n",
              "  <div id=\"df-e5cfc1e6-4cb8-4013-9d3c-4b5ef79a4e4c\">\n",
              "    <div class=\"colab-df-container\">\n",
              "      <div>\n",
              "<style scoped>\n",
              "    .dataframe tbody tr th:only-of-type {\n",
              "        vertical-align: middle;\n",
              "    }\n",
              "\n",
              "    .dataframe tbody tr th {\n",
              "        vertical-align: top;\n",
              "    }\n",
              "\n",
              "    .dataframe thead th {\n",
              "        text-align: right;\n",
              "    }\n",
              "</style>\n",
              "<table border=\"1\" class=\"dataframe\">\n",
              "  <thead>\n",
              "    <tr style=\"text-align: right;\">\n",
              "      <th></th>\n",
              "      <th>Number of posts</th>\n",
              "      <th>Posts</th>\n",
              "      <th>type</th>\n",
              "    </tr>\n",
              "  </thead>\n",
              "  <tbody>\n",
              "    <tr>\n",
              "      <th>0</th>\n",
              "      <td>50</td>\n",
              "      <td>intj moments    sportscenter    plays    pra...</td>\n",
              "      <td>INFJ</td>\n",
              "    </tr>\n",
              "    <tr>\n",
              "      <th>1</th>\n",
              "      <td>50</td>\n",
              "      <td>finding  lack    these posts very alarmingsex...</td>\n",
              "      <td>ENTP</td>\n",
              "    </tr>\n",
              "    <tr>\n",
              "      <th>2</th>\n",
              "      <td>50</td>\n",
              "      <td>good   _____    course  which    know; thats  ...</td>\n",
              "      <td>INTP</td>\n",
              "    </tr>\n",
              "    <tr>\n",
              "      <th>3</th>\n",
              "      <td>50</td>\n",
              "      <td>dear intp    enjoyed  conversation  other   es...</td>\n",
              "      <td>INTJ</td>\n",
              "    </tr>\n",
              "    <tr>\n",
              "      <th>4</th>\n",
              "      <td>50</td>\n",
              "      <td>youre firedthats another silly misconception t...</td>\n",
              "      <td>ENTJ</td>\n",
              "    </tr>\n",
              "    <tr>\n",
              "      <th>...</th>\n",
              "      <td>...</td>\n",
              "      <td>...</td>\n",
              "      <td>...</td>\n",
              "    </tr>\n",
              "    <tr>\n",
              "      <th>7582</th>\n",
              "      <td>50</td>\n",
              "      <td>just because  always think  cats   doms  some...</td>\n",
              "      <td>ISFP</td>\n",
              "    </tr>\n",
              "    <tr>\n",
              "      <th>7583</th>\n",
              "      <td>50</td>\n",
              "      <td>soif this thread already exists someplace else...</td>\n",
              "      <td>ENFP</td>\n",
              "    </tr>\n",
              "    <tr>\n",
              "      <th>7584</th>\n",
              "      <td>50</td>\n",
              "      <td>many questions when   these things   would ta...</td>\n",
              "      <td>INTP</td>\n",
              "    </tr>\n",
              "    <tr>\n",
              "      <th>7585</th>\n",
              "      <td>50</td>\n",
              "      <td>very conflicted right  when  comes  wanting ...</td>\n",
              "      <td>INFP</td>\n",
              "    </tr>\n",
              "    <tr>\n",
              "      <th>7586</th>\n",
              "      <td>50</td>\n",
              "      <td>been  long since  have been  personalitycafe...</td>\n",
              "      <td>INFP</td>\n",
              "    </tr>\n",
              "  </tbody>\n",
              "</table>\n",
              "<p>7587 rows × 3 columns</p>\n",
              "</div>\n",
              "      <button class=\"colab-df-convert\" onclick=\"convertToInteractive('df-e5cfc1e6-4cb8-4013-9d3c-4b5ef79a4e4c')\"\n",
              "              title=\"Convert this dataframe to an interactive table.\"\n",
              "              style=\"display:none;\">\n",
              "        \n",
              "  <svg xmlns=\"http://www.w3.org/2000/svg\" height=\"24px\"viewBox=\"0 0 24 24\"\n",
              "       width=\"24px\">\n",
              "    <path d=\"M0 0h24v24H0V0z\" fill=\"none\"/>\n",
              "    <path d=\"M18.56 5.44l.94 2.06.94-2.06 2.06-.94-2.06-.94-.94-2.06-.94 2.06-2.06.94zm-11 1L8.5 8.5l.94-2.06 2.06-.94-2.06-.94L8.5 2.5l-.94 2.06-2.06.94zm10 10l.94 2.06.94-2.06 2.06-.94-2.06-.94-.94-2.06-.94 2.06-2.06.94z\"/><path d=\"M17.41 7.96l-1.37-1.37c-.4-.4-.92-.59-1.43-.59-.52 0-1.04.2-1.43.59L10.3 9.45l-7.72 7.72c-.78.78-.78 2.05 0 2.83L4 21.41c.39.39.9.59 1.41.59.51 0 1.02-.2 1.41-.59l7.78-7.78 2.81-2.81c.8-.78.8-2.07 0-2.86zM5.41 20L4 18.59l7.72-7.72 1.47 1.35L5.41 20z\"/>\n",
              "  </svg>\n",
              "      </button>\n",
              "      \n",
              "  <style>\n",
              "    .colab-df-container {\n",
              "      display:flex;\n",
              "      flex-wrap:wrap;\n",
              "      gap: 12px;\n",
              "    }\n",
              "\n",
              "    .colab-df-convert {\n",
              "      background-color: #E8F0FE;\n",
              "      border: none;\n",
              "      border-radius: 50%;\n",
              "      cursor: pointer;\n",
              "      display: none;\n",
              "      fill: #1967D2;\n",
              "      height: 32px;\n",
              "      padding: 0 0 0 0;\n",
              "      width: 32px;\n",
              "    }\n",
              "\n",
              "    .colab-df-convert:hover {\n",
              "      background-color: #E2EBFA;\n",
              "      box-shadow: 0px 1px 2px rgba(60, 64, 67, 0.3), 0px 1px 3px 1px rgba(60, 64, 67, 0.15);\n",
              "      fill: #174EA6;\n",
              "    }\n",
              "\n",
              "    [theme=dark] .colab-df-convert {\n",
              "      background-color: #3B4455;\n",
              "      fill: #D2E3FC;\n",
              "    }\n",
              "\n",
              "    [theme=dark] .colab-df-convert:hover {\n",
              "      background-color: #434B5C;\n",
              "      box-shadow: 0px 1px 3px 1px rgba(0, 0, 0, 0.15);\n",
              "      filter: drop-shadow(0px 1px 2px rgba(0, 0, 0, 0.3));\n",
              "      fill: #FFFFFF;\n",
              "    }\n",
              "  </style>\n",
              "\n",
              "      <script>\n",
              "        const buttonEl =\n",
              "          document.querySelector('#df-e5cfc1e6-4cb8-4013-9d3c-4b5ef79a4e4c button.colab-df-convert');\n",
              "        buttonEl.style.display =\n",
              "          google.colab.kernel.accessAllowed ? 'block' : 'none';\n",
              "\n",
              "        async function convertToInteractive(key) {\n",
              "          const element = document.querySelector('#df-e5cfc1e6-4cb8-4013-9d3c-4b5ef79a4e4c');\n",
              "          const dataTable =\n",
              "            await google.colab.kernel.invokeFunction('convertToInteractive',\n",
              "                                                     [key], {});\n",
              "          if (!dataTable) return;\n",
              "\n",
              "          const docLinkHtml = 'Like what you see? Visit the ' +\n",
              "            '<a target=\"_blank\" href=https://colab.research.google.com/notebooks/data_table.ipynb>data table notebook</a>'\n",
              "            + ' to learn more about interactive tables.';\n",
              "          element.innerHTML = '';\n",
              "          dataTable['output_type'] = 'display_data';\n",
              "          await google.colab.output.renderOutput(dataTable, element);\n",
              "          const docLink = document.createElement('div');\n",
              "          docLink.innerHTML = docLinkHtml;\n",
              "          element.appendChild(docLink);\n",
              "        }\n",
              "      </script>\n",
              "    </div>\n",
              "  </div>\n",
              "  "
            ]
          },
          "metadata": {},
          "execution_count": 85
        }
      ]
    },
    {
      "cell_type": "code",
      "source": [
        "data.dropna(inplace= True)"
      ],
      "metadata": {
        "id": "tp-5NbO05N1H"
      },
      "execution_count": null,
      "outputs": []
    },
    {
      "cell_type": "code",
      "source": [
        "# Creating a dataframe wherein each person and his personality type is a row and all the posts by him are the columns \n",
        "l2 = list(set(data['type']))\n",
        "d = {}\n",
        "count = 0\n",
        "for ptype in l2:\n",
        "    d[ptype] = ''\n",
        "for pertype in data['type']:\n",
        "    d[pertype] = d[pertype]+\" \"+ data.iloc[count,1]\n",
        "    count+=1"
      ],
      "metadata": {
        "id": "t33G0V2q_-ZB"
      },
      "execution_count": null,
      "outputs": []
    },
    {
      "cell_type": "code",
      "source": [
        "new_data = pd.DataFrame()\n",
        "for i in d.keys():\n",
        "    new_data.loc[i,'Posts']= d[i]\n",
        "new_data"
      ],
      "metadata": {
        "colab": {
          "base_uri": "https://localhost:8080/",
          "height": 551
        },
        "id": "kyNyjtH8GXyG",
        "outputId": "cc30fbf5-61c4-4180-e0cb-36f15cac5c68"
      },
      "execution_count": null,
      "outputs": [
        {
          "output_type": "execute_result",
          "data": {
            "text/plain": [
              "                                                  Posts\n",
              "INFP    think   agree  personally dont consider myse...\n",
              "ESTJ   this  such  catch   here although  quite  ter...\n",
              "INFJ     intj moments    sportscenter    plays    pr...\n",
              "ISFP   they paint without numbersid guess  istp toom...\n",
              "ISTJ   newtons universal gravity   mean seriously wh...\n",
              "ESTP   splinter cell blacklist  xbox estps  generall...\n",
              "ESFJ     just curious  dont  many esfj  here   esfj ...\n",
              "ISFJ    love feeling affectionate     love  care   c...\n",
              "ENTJ   youre firedthats another silly misconception ...\n",
              "ENFJ       stuff like disthey  longer become outland...\n",
              "ESFP     pretty sure theyve mistyped several times  ...\n",
              "ISTP       from what  read about  enneagram    thoug...\n",
              "ENFP    doesnt want     trip without    staying behi...\n",
              "ENTP    finding  lack    these posts very alarmingse...\n",
              "INTP   good   _____    course  which    know; thats ...\n",
              "INTJ   dear intp    enjoyed  conversation  other   e..."
            ],
            "text/html": [
              "\n",
              "  <div id=\"df-2337a955-d104-4fcc-ba24-6c0a0338dfb2\">\n",
              "    <div class=\"colab-df-container\">\n",
              "      <div>\n",
              "<style scoped>\n",
              "    .dataframe tbody tr th:only-of-type {\n",
              "        vertical-align: middle;\n",
              "    }\n",
              "\n",
              "    .dataframe tbody tr th {\n",
              "        vertical-align: top;\n",
              "    }\n",
              "\n",
              "    .dataframe thead th {\n",
              "        text-align: right;\n",
              "    }\n",
              "</style>\n",
              "<table border=\"1\" class=\"dataframe\">\n",
              "  <thead>\n",
              "    <tr style=\"text-align: right;\">\n",
              "      <th></th>\n",
              "      <th>Posts</th>\n",
              "    </tr>\n",
              "  </thead>\n",
              "  <tbody>\n",
              "    <tr>\n",
              "      <th>INFP</th>\n",
              "      <td>think   agree  personally dont consider myse...</td>\n",
              "    </tr>\n",
              "    <tr>\n",
              "      <th>ESTJ</th>\n",
              "      <td>this  such  catch   here although  quite  ter...</td>\n",
              "    </tr>\n",
              "    <tr>\n",
              "      <th>INFJ</th>\n",
              "      <td>intj moments    sportscenter    plays    pr...</td>\n",
              "    </tr>\n",
              "    <tr>\n",
              "      <th>ISFP</th>\n",
              "      <td>they paint without numbersid guess  istp toom...</td>\n",
              "    </tr>\n",
              "    <tr>\n",
              "      <th>ISTJ</th>\n",
              "      <td>newtons universal gravity   mean seriously wh...</td>\n",
              "    </tr>\n",
              "    <tr>\n",
              "      <th>ESTP</th>\n",
              "      <td>splinter cell blacklist  xbox estps  generall...</td>\n",
              "    </tr>\n",
              "    <tr>\n",
              "      <th>ESFJ</th>\n",
              "      <td>just curious  dont  many esfj  here   esfj ...</td>\n",
              "    </tr>\n",
              "    <tr>\n",
              "      <th>ISFJ</th>\n",
              "      <td>love feeling affectionate     love  care   c...</td>\n",
              "    </tr>\n",
              "    <tr>\n",
              "      <th>ENTJ</th>\n",
              "      <td>youre firedthats another silly misconception ...</td>\n",
              "    </tr>\n",
              "    <tr>\n",
              "      <th>ENFJ</th>\n",
              "      <td>stuff like disthey  longer become outland...</td>\n",
              "    </tr>\n",
              "    <tr>\n",
              "      <th>ESFP</th>\n",
              "      <td>pretty sure theyve mistyped several times  ...</td>\n",
              "    </tr>\n",
              "    <tr>\n",
              "      <th>ISTP</th>\n",
              "      <td>from what  read about  enneagram    thoug...</td>\n",
              "    </tr>\n",
              "    <tr>\n",
              "      <th>ENFP</th>\n",
              "      <td>doesnt want     trip without    staying behi...</td>\n",
              "    </tr>\n",
              "    <tr>\n",
              "      <th>ENTP</th>\n",
              "      <td>finding  lack    these posts very alarmingse...</td>\n",
              "    </tr>\n",
              "    <tr>\n",
              "      <th>INTP</th>\n",
              "      <td>good   _____    course  which    know; thats ...</td>\n",
              "    </tr>\n",
              "    <tr>\n",
              "      <th>INTJ</th>\n",
              "      <td>dear intp    enjoyed  conversation  other   e...</td>\n",
              "    </tr>\n",
              "  </tbody>\n",
              "</table>\n",
              "</div>\n",
              "      <button class=\"colab-df-convert\" onclick=\"convertToInteractive('df-2337a955-d104-4fcc-ba24-6c0a0338dfb2')\"\n",
              "              title=\"Convert this dataframe to an interactive table.\"\n",
              "              style=\"display:none;\">\n",
              "        \n",
              "  <svg xmlns=\"http://www.w3.org/2000/svg\" height=\"24px\"viewBox=\"0 0 24 24\"\n",
              "       width=\"24px\">\n",
              "    <path d=\"M0 0h24v24H0V0z\" fill=\"none\"/>\n",
              "    <path d=\"M18.56 5.44l.94 2.06.94-2.06 2.06-.94-2.06-.94-.94-2.06-.94 2.06-2.06.94zm-11 1L8.5 8.5l.94-2.06 2.06-.94-2.06-.94L8.5 2.5l-.94 2.06-2.06.94zm10 10l.94 2.06.94-2.06 2.06-.94-2.06-.94-.94-2.06-.94 2.06-2.06.94z\"/><path d=\"M17.41 7.96l-1.37-1.37c-.4-.4-.92-.59-1.43-.59-.52 0-1.04.2-1.43.59L10.3 9.45l-7.72 7.72c-.78.78-.78 2.05 0 2.83L4 21.41c.39.39.9.59 1.41.59.51 0 1.02-.2 1.41-.59l7.78-7.78 2.81-2.81c.8-.78.8-2.07 0-2.86zM5.41 20L4 18.59l7.72-7.72 1.47 1.35L5.41 20z\"/>\n",
              "  </svg>\n",
              "      </button>\n",
              "      \n",
              "  <style>\n",
              "    .colab-df-container {\n",
              "      display:flex;\n",
              "      flex-wrap:wrap;\n",
              "      gap: 12px;\n",
              "    }\n",
              "\n",
              "    .colab-df-convert {\n",
              "      background-color: #E8F0FE;\n",
              "      border: none;\n",
              "      border-radius: 50%;\n",
              "      cursor: pointer;\n",
              "      display: none;\n",
              "      fill: #1967D2;\n",
              "      height: 32px;\n",
              "      padding: 0 0 0 0;\n",
              "      width: 32px;\n",
              "    }\n",
              "\n",
              "    .colab-df-convert:hover {\n",
              "      background-color: #E2EBFA;\n",
              "      box-shadow: 0px 1px 2px rgba(60, 64, 67, 0.3), 0px 1px 3px 1px rgba(60, 64, 67, 0.15);\n",
              "      fill: #174EA6;\n",
              "    }\n",
              "\n",
              "    [theme=dark] .colab-df-convert {\n",
              "      background-color: #3B4455;\n",
              "      fill: #D2E3FC;\n",
              "    }\n",
              "\n",
              "    [theme=dark] .colab-df-convert:hover {\n",
              "      background-color: #434B5C;\n",
              "      box-shadow: 0px 1px 3px 1px rgba(0, 0, 0, 0.15);\n",
              "      filter: drop-shadow(0px 1px 2px rgba(0, 0, 0, 0.3));\n",
              "      fill: #FFFFFF;\n",
              "    }\n",
              "  </style>\n",
              "\n",
              "      <script>\n",
              "        const buttonEl =\n",
              "          document.querySelector('#df-2337a955-d104-4fcc-ba24-6c0a0338dfb2 button.colab-df-convert');\n",
              "        buttonEl.style.display =\n",
              "          google.colab.kernel.accessAllowed ? 'block' : 'none';\n",
              "\n",
              "        async function convertToInteractive(key) {\n",
              "          const element = document.querySelector('#df-2337a955-d104-4fcc-ba24-6c0a0338dfb2');\n",
              "          const dataTable =\n",
              "            await google.colab.kernel.invokeFunction('convertToInteractive',\n",
              "                                                     [key], {});\n",
              "          if (!dataTable) return;\n",
              "\n",
              "          const docLinkHtml = 'Like what you see? Visit the ' +\n",
              "            '<a target=\"_blank\" href=https://colab.research.google.com/notebooks/data_table.ipynb>data table notebook</a>'\n",
              "            + ' to learn more about interactive tables.';\n",
              "          element.innerHTML = '';\n",
              "          dataTable['output_type'] = 'display_data';\n",
              "          await google.colab.output.renderOutput(dataTable, element);\n",
              "          const docLink = document.createElement('div');\n",
              "          docLink.innerHTML = docLinkHtml;\n",
              "          element.appendChild(docLink);\n",
              "        }\n",
              "      </script>\n",
              "    </div>\n",
              "  </div>\n",
              "  "
            ]
          },
          "metadata": {},
          "execution_count": 88
        }
      ]
    },
    {
      "cell_type": "code",
      "source": [
        "new_data['id'] = range(1,17)\n",
        "new_data"
      ],
      "metadata": {
        "id": "AjbgNMtGE-CL",
        "colab": {
          "base_uri": "https://localhost:8080/",
          "height": 551
        },
        "outputId": "0a61f640-892e-4b67-a933-d95bd8706a19"
      },
      "execution_count": null,
      "outputs": [
        {
          "output_type": "execute_result",
          "data": {
            "text/plain": [
              "                                                  Posts  id\n",
              "INFP    think   agree  personally dont consider myse...   1\n",
              "ESTJ   this  such  catch   here although  quite  ter...   2\n",
              "INFJ     intj moments    sportscenter    plays    pr...   3\n",
              "ISFP   they paint without numbersid guess  istp toom...   4\n",
              "ISTJ   newtons universal gravity   mean seriously wh...   5\n",
              "ESTP   splinter cell blacklist  xbox estps  generall...   6\n",
              "ESFJ     just curious  dont  many esfj  here   esfj ...   7\n",
              "ISFJ    love feeling affectionate     love  care   c...   8\n",
              "ENTJ   youre firedthats another silly misconception ...   9\n",
              "ENFJ       stuff like disthey  longer become outland...  10\n",
              "ESFP     pretty sure theyve mistyped several times  ...  11\n",
              "ISTP       from what  read about  enneagram    thoug...  12\n",
              "ENFP    doesnt want     trip without    staying behi...  13\n",
              "ENTP    finding  lack    these posts very alarmingse...  14\n",
              "INTP   good   _____    course  which    know; thats ...  15\n",
              "INTJ   dear intp    enjoyed  conversation  other   e...  16"
            ],
            "text/html": [
              "\n",
              "  <div id=\"df-39ec9ed0-d612-45f7-84c7-15938a679f8a\">\n",
              "    <div class=\"colab-df-container\">\n",
              "      <div>\n",
              "<style scoped>\n",
              "    .dataframe tbody tr th:only-of-type {\n",
              "        vertical-align: middle;\n",
              "    }\n",
              "\n",
              "    .dataframe tbody tr th {\n",
              "        vertical-align: top;\n",
              "    }\n",
              "\n",
              "    .dataframe thead th {\n",
              "        text-align: right;\n",
              "    }\n",
              "</style>\n",
              "<table border=\"1\" class=\"dataframe\">\n",
              "  <thead>\n",
              "    <tr style=\"text-align: right;\">\n",
              "      <th></th>\n",
              "      <th>Posts</th>\n",
              "      <th>id</th>\n",
              "    </tr>\n",
              "  </thead>\n",
              "  <tbody>\n",
              "    <tr>\n",
              "      <th>INFP</th>\n",
              "      <td>think   agree  personally dont consider myse...</td>\n",
              "      <td>1</td>\n",
              "    </tr>\n",
              "    <tr>\n",
              "      <th>ESTJ</th>\n",
              "      <td>this  such  catch   here although  quite  ter...</td>\n",
              "      <td>2</td>\n",
              "    </tr>\n",
              "    <tr>\n",
              "      <th>INFJ</th>\n",
              "      <td>intj moments    sportscenter    plays    pr...</td>\n",
              "      <td>3</td>\n",
              "    </tr>\n",
              "    <tr>\n",
              "      <th>ISFP</th>\n",
              "      <td>they paint without numbersid guess  istp toom...</td>\n",
              "      <td>4</td>\n",
              "    </tr>\n",
              "    <tr>\n",
              "      <th>ISTJ</th>\n",
              "      <td>newtons universal gravity   mean seriously wh...</td>\n",
              "      <td>5</td>\n",
              "    </tr>\n",
              "    <tr>\n",
              "      <th>ESTP</th>\n",
              "      <td>splinter cell blacklist  xbox estps  generall...</td>\n",
              "      <td>6</td>\n",
              "    </tr>\n",
              "    <tr>\n",
              "      <th>ESFJ</th>\n",
              "      <td>just curious  dont  many esfj  here   esfj ...</td>\n",
              "      <td>7</td>\n",
              "    </tr>\n",
              "    <tr>\n",
              "      <th>ISFJ</th>\n",
              "      <td>love feeling affectionate     love  care   c...</td>\n",
              "      <td>8</td>\n",
              "    </tr>\n",
              "    <tr>\n",
              "      <th>ENTJ</th>\n",
              "      <td>youre firedthats another silly misconception ...</td>\n",
              "      <td>9</td>\n",
              "    </tr>\n",
              "    <tr>\n",
              "      <th>ENFJ</th>\n",
              "      <td>stuff like disthey  longer become outland...</td>\n",
              "      <td>10</td>\n",
              "    </tr>\n",
              "    <tr>\n",
              "      <th>ESFP</th>\n",
              "      <td>pretty sure theyve mistyped several times  ...</td>\n",
              "      <td>11</td>\n",
              "    </tr>\n",
              "    <tr>\n",
              "      <th>ISTP</th>\n",
              "      <td>from what  read about  enneagram    thoug...</td>\n",
              "      <td>12</td>\n",
              "    </tr>\n",
              "    <tr>\n",
              "      <th>ENFP</th>\n",
              "      <td>doesnt want     trip without    staying behi...</td>\n",
              "      <td>13</td>\n",
              "    </tr>\n",
              "    <tr>\n",
              "      <th>ENTP</th>\n",
              "      <td>finding  lack    these posts very alarmingse...</td>\n",
              "      <td>14</td>\n",
              "    </tr>\n",
              "    <tr>\n",
              "      <th>INTP</th>\n",
              "      <td>good   _____    course  which    know; thats ...</td>\n",
              "      <td>15</td>\n",
              "    </tr>\n",
              "    <tr>\n",
              "      <th>INTJ</th>\n",
              "      <td>dear intp    enjoyed  conversation  other   e...</td>\n",
              "      <td>16</td>\n",
              "    </tr>\n",
              "  </tbody>\n",
              "</table>\n",
              "</div>\n",
              "      <button class=\"colab-df-convert\" onclick=\"convertToInteractive('df-39ec9ed0-d612-45f7-84c7-15938a679f8a')\"\n",
              "              title=\"Convert this dataframe to an interactive table.\"\n",
              "              style=\"display:none;\">\n",
              "        \n",
              "  <svg xmlns=\"http://www.w3.org/2000/svg\" height=\"24px\"viewBox=\"0 0 24 24\"\n",
              "       width=\"24px\">\n",
              "    <path d=\"M0 0h24v24H0V0z\" fill=\"none\"/>\n",
              "    <path d=\"M18.56 5.44l.94 2.06.94-2.06 2.06-.94-2.06-.94-.94-2.06-.94 2.06-2.06.94zm-11 1L8.5 8.5l.94-2.06 2.06-.94-2.06-.94L8.5 2.5l-.94 2.06-2.06.94zm10 10l.94 2.06.94-2.06 2.06-.94-2.06-.94-.94-2.06-.94 2.06-2.06.94z\"/><path d=\"M17.41 7.96l-1.37-1.37c-.4-.4-.92-.59-1.43-.59-.52 0-1.04.2-1.43.59L10.3 9.45l-7.72 7.72c-.78.78-.78 2.05 0 2.83L4 21.41c.39.39.9.59 1.41.59.51 0 1.02-.2 1.41-.59l7.78-7.78 2.81-2.81c.8-.78.8-2.07 0-2.86zM5.41 20L4 18.59l7.72-7.72 1.47 1.35L5.41 20z\"/>\n",
              "  </svg>\n",
              "      </button>\n",
              "      \n",
              "  <style>\n",
              "    .colab-df-container {\n",
              "      display:flex;\n",
              "      flex-wrap:wrap;\n",
              "      gap: 12px;\n",
              "    }\n",
              "\n",
              "    .colab-df-convert {\n",
              "      background-color: #E8F0FE;\n",
              "      border: none;\n",
              "      border-radius: 50%;\n",
              "      cursor: pointer;\n",
              "      display: none;\n",
              "      fill: #1967D2;\n",
              "      height: 32px;\n",
              "      padding: 0 0 0 0;\n",
              "      width: 32px;\n",
              "    }\n",
              "\n",
              "    .colab-df-convert:hover {\n",
              "      background-color: #E2EBFA;\n",
              "      box-shadow: 0px 1px 2px rgba(60, 64, 67, 0.3), 0px 1px 3px 1px rgba(60, 64, 67, 0.15);\n",
              "      fill: #174EA6;\n",
              "    }\n",
              "\n",
              "    [theme=dark] .colab-df-convert {\n",
              "      background-color: #3B4455;\n",
              "      fill: #D2E3FC;\n",
              "    }\n",
              "\n",
              "    [theme=dark] .colab-df-convert:hover {\n",
              "      background-color: #434B5C;\n",
              "      box-shadow: 0px 1px 3px 1px rgba(0, 0, 0, 0.15);\n",
              "      filter: drop-shadow(0px 1px 2px rgba(0, 0, 0, 0.3));\n",
              "      fill: #FFFFFF;\n",
              "    }\n",
              "  </style>\n",
              "\n",
              "      <script>\n",
              "        const buttonEl =\n",
              "          document.querySelector('#df-39ec9ed0-d612-45f7-84c7-15938a679f8a button.colab-df-convert');\n",
              "        buttonEl.style.display =\n",
              "          google.colab.kernel.accessAllowed ? 'block' : 'none';\n",
              "\n",
              "        async function convertToInteractive(key) {\n",
              "          const element = document.querySelector('#df-39ec9ed0-d612-45f7-84c7-15938a679f8a');\n",
              "          const dataTable =\n",
              "            await google.colab.kernel.invokeFunction('convertToInteractive',\n",
              "                                                     [key], {});\n",
              "          if (!dataTable) return;\n",
              "\n",
              "          const docLinkHtml = 'Like what you see? Visit the ' +\n",
              "            '<a target=\"_blank\" href=https://colab.research.google.com/notebooks/data_table.ipynb>data table notebook</a>'\n",
              "            + ' to learn more about interactive tables.';\n",
              "          element.innerHTML = '';\n",
              "          dataTable['output_type'] = 'display_data';\n",
              "          await google.colab.output.renderOutput(dataTable, element);\n",
              "          const docLink = document.createElement('div');\n",
              "          docLink.innerHTML = docLinkHtml;\n",
              "          element.appendChild(docLink);\n",
              "        }\n",
              "      </script>\n",
              "    </div>\n",
              "  </div>\n",
              "  "
            ]
          },
          "metadata": {},
          "execution_count": 89
        }
      ]
    },
    {
      "cell_type": "code",
      "source": [
        "# textual to numerical data"
      ],
      "metadata": {
        "id": "kb2MIIx-53Y4"
      },
      "execution_count": null,
      "outputs": []
    },
    {
      "cell_type": "code",
      "source": [
        "from sklearn.feature_extraction.text import CountVectorizer\n",
        "from sklearn.model_selection import train_test_split\n",
        "from sklearn.feature_extraction.text import TfidfTransformer\n",
        "from sklearn.feature_extraction.text import TfidfVectorizer\n"
      ],
      "metadata": {
        "id": "aCSeuMG859V9"
      },
      "execution_count": null,
      "outputs": []
    },
    {
      "cell_type": "code",
      "source": [
        "tfidf  = TfidfVectorizer(sublinear_tf=True,min_df=1, ngram_range=(1, 2), stop_words='english')\n"
      ],
      "metadata": {
        "id": "4SKl43126XL6"
      },
      "execution_count": null,
      "outputs": []
    },
    {
      "cell_type": "code",
      "source": [
        "X = tfidf.fit_transform(new_data['Posts']).toarray()\n"
      ],
      "metadata": {
        "id": "zMemY74v7KhF"
      },
      "execution_count": null,
      "outputs": []
    },
    {
      "cell_type": "markdown",
      "source": [
        "Naive Bayes' Model "
      ],
      "metadata": {
        "id": "l_V9dWkdHNj2"
      }
    },
    {
      "cell_type": "code",
      "source": [
        "import numpy as np\n",
        "import pandas as pd\n",
        "import matplotlib.pyplot as plt\n",
        "from sklearn.model_selection import train_test_split\n",
        "from sklearn.feature_extraction.text import CountVectorizer\n",
        "from sklearn.feature_extraction.text import TfidfTransformer\n",
        "from sklearn.naive_bayes import MultinomialNB\n",
        "from sklearn import metrics\n",
        "%matplotlib inline"
      ],
      "metadata": {
        "id": "0uuwcllWHRP4"
      },
      "execution_count": null,
      "outputs": []
    },
    {
      "cell_type": "code",
      "source": [
        "data = pd.read_csv(\"mbti_cleaned.csv\")\n",
        "data.dropna(inplace=True)"
      ],
      "metadata": {
        "id": "_tlKeRV-HU18"
      },
      "execution_count": null,
      "outputs": []
    },
    {
      "cell_type": "code",
      "source": [
        "x_train, x_test, y_train, y_test = train_test_split(data['Posts'],data['type'], random_state=0)\n",
        "cv = CountVectorizer()\n",
        "tfidf = TfidfTransformer()"
      ],
      "metadata": {
        "id": "d_4reqOgHZ3F"
      },
      "execution_count": null,
      "outputs": []
    },
    {
      "cell_type": "code",
      "source": [
        "x_train_counts = cv.fit_transform(x_train)\n",
        "x_train_tfidf = tfidf.fit_transform(x_train_counts)"
      ],
      "metadata": {
        "id": "qOQPdDcxHb-v"
      },
      "execution_count": null,
      "outputs": []
    },
    {
      "cell_type": "markdown",
      "source": [
        "Hyperparameter alpha"
      ],
      "metadata": {
        "id": "6v4ecm2uHfjA"
      }
    },
    {
      "cell_type": "code",
      "source": [
        "alpha = np.arange(0.00001,0.1,0.0001)\n",
        "alpha = alpha[:50]\n",
        "accuracy= []\n",
        "for i in alpha:\n",
        "    model = MultinomialNB(alpha = i)\n",
        "    model.fit(x_train_tfidf,y_train)\n",
        "    y_pred = model.predict(cv.transform(x_test))\n",
        "    print(\"alpha is: \",i,\"Accuracy is :\",metrics.accuracy_score(y_test,y_pred))\n",
        "    accuracy.append(metrics.accuracy_score(y_test,y_pred))"
      ],
      "metadata": {
        "colab": {
          "base_uri": "https://localhost:8080/"
        },
        "id": "tOTzC707Hhhl",
        "outputId": "725d5d88-f247-4b3b-a2cd-c658b9b1be76"
      },
      "execution_count": null,
      "outputs": [
        {
          "output_type": "stream",
          "name": "stdout",
          "text": [
            "alpha is:  1e-05 Accuracy is : 0.3131259884027412\n",
            "alpha is:  0.00011 Accuracy is : 0.33473906167633105\n",
            "alpha is:  0.00021 Accuracy is : 0.3415919873484449\n",
            "alpha is:  0.00031000000000000005 Accuracy is : 0.34791776489193466\n",
            "alpha is:  0.00041000000000000005 Accuracy is : 0.3526620980495519\n",
            "alpha is:  0.00051 Accuracy is : 0.35318924617817604\n",
            "alpha is:  0.0006100000000000001 Accuracy is : 0.3552978386926726\n",
            "alpha is:  0.00071 Accuracy is : 0.35793357933579334\n",
            "alpha is:  0.0008100000000000001 Accuracy is : 0.3574064312071692\n",
            "alpha is:  0.0009100000000000001 Accuracy is : 0.3589878755930416\n",
            "alpha is:  0.00101 Accuracy is : 0.3574064312071692\n",
            "alpha is:  0.00111 Accuracy is : 0.35793357933579334\n",
            "alpha is:  0.0012100000000000001 Accuracy is : 0.3589878755930416\n",
            "alpha is:  0.0013100000000000002 Accuracy is : 0.35951502372166577\n",
            "alpha is:  0.00141 Accuracy is : 0.35951502372166577\n",
            "alpha is:  0.00151 Accuracy is : 0.35951502372166577\n",
            "alpha is:  0.00161 Accuracy is : 0.3589878755930416\n",
            "alpha is:  0.0017100000000000001 Accuracy is : 0.3574064312071692\n",
            "alpha is:  0.0018100000000000002 Accuracy is : 0.3563521349499209\n",
            "alpha is:  0.00191 Accuracy is : 0.3552978386926726\n",
            "alpha is:  0.00201 Accuracy is : 0.3563521349499209\n",
            "alpha is:  0.0021100000000000003 Accuracy is : 0.35582498682129676\n",
            "alpha is:  0.00221 Accuracy is : 0.35582498682129676\n",
            "alpha is:  0.00231 Accuracy is : 0.3552978386926726\n",
            "alpha is:  0.0024100000000000002 Accuracy is : 0.3547706905640485\n",
            "alpha is:  0.00251 Accuracy is : 0.3563521349499209\n",
            "alpha is:  0.0026100000000000003 Accuracy is : 0.35582498682129676\n",
            "alpha is:  0.00271 Accuracy is : 0.3563521349499209\n",
            "alpha is:  0.00281 Accuracy is : 0.35424354243542433\n",
            "alpha is:  0.0029100000000000003 Accuracy is : 0.35318924617817604\n",
            "alpha is:  0.00301 Accuracy is : 0.3510806536636795\n",
            "alpha is:  0.0031100000000000004 Accuracy is : 0.3505535055350554\n",
            "alpha is:  0.00321 Accuracy is : 0.3484449130205588\n",
            "alpha is:  0.00331 Accuracy is : 0.34897206114918294\n",
            "alpha is:  0.0034100000000000003 Accuracy is : 0.3494992092778071\n",
            "alpha is:  0.00351 Accuracy is : 0.34897206114918294\n",
            "alpha is:  0.0036100000000000004 Accuracy is : 0.34897206114918294\n",
            "alpha is:  0.00371 Accuracy is : 0.3473906167633105\n",
            "alpha is:  0.00381 Accuracy is : 0.34686346863468637\n",
            "alpha is:  0.00391 Accuracy is : 0.3458091723774381\n",
            "alpha is:  0.00401 Accuracy is : 0.3458091723774381\n",
            "alpha is:  0.00411 Accuracy is : 0.3463363205060622\n",
            "alpha is:  0.00421 Accuracy is : 0.34528202424881393\n",
            "alpha is:  0.00431 Accuracy is : 0.3437005798629415\n",
            "alpha is:  0.00441 Accuracy is : 0.3437005798629415\n",
            "alpha is:  0.00451 Accuracy is : 0.3426462836056932\n",
            "alpha is:  0.0046099999999999995 Accuracy is : 0.34317343173431736\n",
            "alpha is:  0.00471 Accuracy is : 0.3437005798629415\n",
            "alpha is:  0.00481 Accuracy is : 0.34317343173431736\n",
            "alpha is:  0.0049099999999999994 Accuracy is : 0.3426462836056932\n"
          ]
        }
      ]
    },
    {
      "cell_type": "code",
      "source": [
        "import matplotlib.pyplot as plt\n",
        "%matplotlib inline\n",
        "plt.plot(alpha,accuracy)\n",
        "plt.plot(alpha[accuracy.index(max(accuracy))],max(accuracy),\"r+\")\n",
        "plt.show()"
      ],
      "metadata": {
        "colab": {
          "base_uri": "https://localhost:8080/",
          "height": 265
        },
        "id": "AGplWwXhH7wg",
        "outputId": "6a5d95b4-01d3-4e76-ad25-0391fcd868c0"
      },
      "execution_count": null,
      "outputs": [
        {
          "output_type": "display_data",
          "data": {
            "text/plain": [
              "<Figure size 432x288 with 1 Axes>"
            ],
            "image/png": "[encoded data removed]"
          },
          "metadata": {
            "needs_background": "light"
          }
        }
      ]
    },
    {
      "cell_type": "code",
      "source": [
        "print(max(accuracy))\n",
        "alpha[accuracy.index(max(accuracy))]\n",
        "#best alpha = 0.0013"
      ],
      "metadata": {
        "colab": {
          "base_uri": "https://localhost:8080/"
        },
        "id": "MFAkqaN0H-MG",
        "outputId": "92d5ae94-7649-44b4-cacb-a029436c111b"
      },
      "execution_count": null,
      "outputs": [
        {
          "output_type": "stream",
          "name": "stdout",
          "text": [
            "0.35951502372166577\n"
          ]
        },
        {
          "output_type": "execute_result",
          "data": {
            "text/plain": [
              "0.0013100000000000002"
            ]
          },
          "metadata": {},
          "execution_count": 100
        }
      ]
    },
    {
      "cell_type": "markdown",
      "source": [
        "Naïve Bayesian classifier :  "
      ],
      "metadata": {
        "id": "1S_d87pUIU5o"
      }
    },
    {
      "cell_type": "code",
      "source": [
        "model = MultinomialNB(alpha = 0.0013)\n",
        "model.fit(x_train_tfidf,y_train)\n",
        "y_pred = model.predict(cv.transform(x_test))"
      ],
      "metadata": {
        "id": "epZbB9hjH3ea"
      },
      "execution_count": null,
      "outputs": []
    },
    {
      "cell_type": "code",
      "source": [
        "metrics.accuracy_score(y_test,y_pred) # model's Accuracy"
      ],
      "metadata": {
        "colab": {
          "base_uri": "https://localhost:8080/"
        },
        "id": "M4egbmQbH-cu",
        "outputId": "7edbbc30-ac73-4f4d-d229-c3d12fd3c095"
      },
      "execution_count": null,
      "outputs": [
        {
          "output_type": "execute_result",
          "data": {
            "text/plain": [
              "0.3600421718502899"
            ]
          },
          "metadata": {},
          "execution_count": 102
        }
      ]
    },
    {
      "cell_type": "markdown",
      "source": [
        "SVM model "
      ],
      "metadata": {
        "id": "Hi4HymnOvC3b"
      }
    },
    {
      "cell_type": "code",
      "source": [
        "import numpy as np\n",
        "import pandas as pd\n",
        "import matplotlib.pyplot as plt\n",
        "import re\n",
        "import string\n",
        "import nltk"
      ],
      "metadata": {
        "id": "gklx7HjjvJHx"
      },
      "execution_count": null,
      "outputs": []
    },
    {
      "cell_type": "code",
      "source": [
        "data = pd.read_csv(\"mbti_cleaned.csv\")"
      ],
      "metadata": {
        "id": "NFq-5jonvFDq"
      },
      "execution_count": null,
      "outputs": []
    },
    {
      "cell_type": "markdown",
      "source": [
        "To extract significant characteristics from the data and submit it to the model for classification, we develop the TF-IDF Model."
      ],
      "metadata": {
        "id": "eClKW3F5vntI"
      }
    },
    {
      "cell_type": "code",
      "source": [
        "from sklearn.model_selection import train_test_split\n",
        "from sklearn.feature_extraction.text import CountVectorizer\n",
        "from sklearn.feature_extraction.text import TfidfTransformer"
      ],
      "metadata": {
        "id": "vU3khXK1vS23"
      },
      "execution_count": null,
      "outputs": []
    },
    {
      "cell_type": "code",
      "source": [
        "data.dropna(inplace= True)"
      ],
      "metadata": {
        "id": "9UZA4vayvsjR"
      },
      "execution_count": null,
      "outputs": []
    },
    {
      "cell_type": "code",
      "source": [
        "x_train, x_test, y_train, y_test = train_test_split(data['Posts'],data['type'], random_state=0)\n",
        "c_v = CountVectorizer(stop_words=\"english\")"
      ],
      "metadata": {
        "id": "52kBaqiZvv-x"
      },
      "execution_count": null,
      "outputs": []
    },
    {
      "cell_type": "code",
      "source": [
        "X_train_counts = c_v.fit_transform(x_train)\n",
        "tfidf_transformer = TfidfTransformer()\n",
        "X_train_tfidf = tfidf_transformer.fit_transform(X_train_counts)"
      ],
      "metadata": {
        "id": "B2jNdsrJvzlB"
      },
      "execution_count": null,
      "outputs": []
    },
    {
      "cell_type": "markdown",
      "source": [
        "Feeding the dataset to svm"
      ],
      "metadata": {
        "id": "JcPilpDnv6gW"
      }
    },
    {
      "cell_type": "code",
      "source": [
        "from sklearn.svm import LinearSVC\n",
        "clf = LinearSVC().fit(X_train_tfidf,y_train)\n",
        "y_pred = clf.predict(c_v.transform(x_test))"
      ],
      "metadata": {
        "id": "KCOhm_-Uv9vD"
      },
      "execution_count": null,
      "outputs": []
    },
    {
      "cell_type": "code",
      "source": [
        "from sklearn import metrics\n",
        "print(metrics.classification_report(y_test,y_pred,target_names=data['type'].unique()))"
      ],
      "metadata": {
        "colab": {
          "base_uri": "https://localhost:8080/"
        },
        "id": "oeYmhqCGKSS5",
        "outputId": "58fe68f2-e564-404a-a564-699b2a7850ed"
      },
      "execution_count": null,
      "outputs": [
        {
          "output_type": "stream",
          "name": "stdout",
          "text": [
            "              precision    recall  f1-score   support\n",
            "\n",
            "        INFJ       0.50      0.24      0.33        45\n",
            "        ENTP       0.45      0.62      0.52       134\n",
            "        INTP       0.48      0.35      0.41        46\n",
            "        INTJ       0.61      0.49      0.54       138\n",
            "        ENTJ       0.80      0.50      0.62         8\n",
            "        INFP       0.00      0.00      0.00         5\n",
            "        ENFP       0.00      0.00      0.00         8\n",
            "        ISFP       0.33      0.18      0.24        22\n",
            "        ENFJ       0.61      0.65      0.63       325\n",
            "        ISTP       0.56      0.89      0.68       402\n",
            "        ISFJ       0.77      0.49      0.60       255\n",
            "        ISTJ       0.76      0.60      0.67       300\n",
            "        ESTP       0.91      0.44      0.60        45\n",
            "        ESFP       0.70      0.22      0.34        63\n",
            "        ESTJ       0.34      0.34      0.34        41\n",
            "        ESFJ       0.57      0.55      0.56        60\n",
            "\n",
            "    accuracy                           0.60      1897\n",
            "   macro avg       0.52      0.41      0.44      1897\n",
            "weighted avg       0.62      0.60      0.59      1897\n",
            "\n"
          ]
        },
        {
          "output_type": "stream",
          "name": "stderr",
          "text": [
            "/usr/local/lib/python3.7/dist-packages/sklearn/metrics/_classification.py:1318: UndefinedMetricWarning: Precision and F-score are ill-defined and being set to 0.0 in labels with no predicted samples. Use `zero_division` parameter to control this behavior.\n",
            "  _warn_prf(average, modifier, msg_start, len(result))\n",
            "/usr/local/lib/python3.7/dist-packages/sklearn/metrics/_classification.py:1318: UndefinedMetricWarning: Precision and F-score are ill-defined and being set to 0.0 in labels with no predicted samples. Use `zero_division` parameter to control this behavior.\n",
            "  _warn_prf(average, modifier, msg_start, len(result))\n",
            "/usr/local/lib/python3.7/dist-packages/sklearn/metrics/_classification.py:1318: UndefinedMetricWarning: Precision and F-score are ill-defined and being set to 0.0 in labels with no predicted samples. Use `zero_division` parameter to control this behavior.\n",
            "  _warn_prf(average, modifier, msg_start, len(result))\n"
          ]
        }
      ]
    },
    {
      "cell_type": "code",
      "source": [
        "print(metrics.accuracy_score(y_test,y_pred)*100)\n"
      ],
      "metadata": {
        "colab": {
          "base_uri": "https://localhost:8080/"
        },
        "id": "wIHckVFmKVAw",
        "outputId": "57ddaee0-1636-411a-eaa4-556f429deb08"
      },
      "execution_count": null,
      "outputs": [
        {
          "output_type": "stream",
          "name": "stdout",
          "text": [
            "60.094886663152344\n"
          ]
        }
      ]
    },
    {
      "cell_type": "markdown",
      "source": [
        "hyper tuning"
      ],
      "metadata": {
        "id": "s3w6ednwN6gc"
      }
    },
    {
      "cell_type": "code",
      "source": [
        "C = np.arange(0.1,1,0.01)\n",
        "accuracy=[]\n",
        "for i in C:\n",
        "    clf = LinearSVC(C=i).fit(X_train_tfidf,y_train)\n",
        "    y_pred = clf.predict(c_v.transform(x_test))\n",
        "    print(\"C is: \",i,\"Accuracy is :\",metrics.accuracy_score(y_test,y_pred))\n",
        "    accuracy.append(metrics.accuracy_score(y_test,y_pred))"
      ],
      "metadata": {
        "id": "Naao94TfN1X1"
      },
      "execution_count": null,
      "outputs": []
    },
    {
      "cell_type": "code",
      "source": [
        "clf = LinearSVC(C=0.1699).fit(X_train_tfidf,y_train)\n",
        "y_pred = clf.predict(c_v.transform(x_test))"
      ],
      "metadata": {
        "id": "toMVHORVQm1r"
      },
      "execution_count": null,
      "outputs": []
    },
    {
      "cell_type": "code",
      "source": [
        "metrics.accuracy_score(y_test,y_pred)*100   # best Accuracy \n"
      ],
      "metadata": {
        "colab": {
          "base_uri": "https://localhost:8080/"
        },
        "id": "YObCMympQu5L",
        "outputId": "98ee5aee-552d-4563-b5d3-c2809ec6a2df"
      },
      "execution_count": null,
      "outputs": [
        {
          "output_type": "execute_result",
          "data": {
            "text/plain": [
              "58.777016341591995"
            ]
          },
          "metadata": {},
          "execution_count": 114
        }
      ]
    },
    {
      "cell_type": "markdown",
      "source": [
        "Deep learning with CNN"
      ],
      "metadata": {
        "id": "7YOn7pk_RHBo"
      }
    },
    {
      "cell_type": "code",
      "source": [
        "from keras.preprocessing import sequence, text\n",
        "from keras.models import Sequential\n",
        "from keras.layers import Dense, Dropout, Activation\n",
        "from keras.layers import Embedding, LSTM\n",
        "from keras.layers import Conv1D, Flatten, MaxPooling1D\n",
        "\n",
        "import numpy as np\n",
        "import pandas as pd\n",
        "from sklearn.model_selection import train_test_split"
      ],
      "metadata": {
        "id": "625V3rJHRNUk"
      },
      "execution_count": null,
      "outputs": []
    },
    {
      "cell_type": "code",
      "source": [
        "vocab_size = 1000\n",
        "max_len =1000\n",
        "batch_size = 32\n",
        "embedding_dims =10\n",
        "filters = 16\n",
        "ker_size = 3 # kernel size\n",
        "hidden_dims = 250\n",
        "epochs = 10"
      ],
      "metadata": {
        "id": "kJj5U_vaRoPl"
      },
      "execution_count": null,
      "outputs": []
    },
    {
      "cell_type": "code",
      "source": [
        "data = pd.read_csv('mbti_cleaned.csv')\n",
        "data.dropna(inplace=True)  # ignoring the NaN values"
      ],
      "metadata": {
        "id": "8hNXAoxmSG3t"
      },
      "execution_count": null,
      "outputs": []
    },
    {
      "cell_type": "code",
      "source": [
        "isE = []\n",
        "isS = []\n",
        "isT = []\n",
        "isJ = []\n",
        "\n",
        "for p_type in data['type']:\n",
        "  print(p_type) # string  --> 'INFJ'\n",
        "  E = 1 if p_type[0] =='E' else 0\n",
        "  isE.append(E)\n",
        "  S = 1 if p_type[1] =='S' else 0\n",
        "  isS.append(S)\n",
        "  T = 1 if p_type[2] =='T' else 0\n",
        "  isT.append(T)\n",
        "  J = 1 if p_type[3] =='J' else 0\n",
        "  isJ.append(J)\n",
        "\n",
        "data['is E'] = isE\n",
        "data['is S'] = isS\n",
        "data['is T'] = isT\n",
        "data['is J'] = isJ\n"
      ],
      "metadata": {
        "id": "sZucOSLNzTC5"
      },
      "execution_count": null,
      "outputs": []
    },
    {
      "cell_type": "code",
      "source": [
        "data.head()"
      ],
      "metadata": {
        "colab": {
          "base_uri": "https://localhost:8080/",
          "height": 206
        },
        "id": "lMLM6gSD2hpw",
        "outputId": "4eac52a9-eb9c-4084-e926-2e3a5f29c151"
      },
      "execution_count": null,
      "outputs": [
        {
          "output_type": "execute_result",
          "data": {
            "text/plain": [
              "   Unnamed: 0  type  Number of posts  \\\n",
              "0           0  INFJ               50   \n",
              "1           1  ENTP               50   \n",
              "2           2  INTP               50   \n",
              "3           3  INTJ               50   \n",
              "4           4  ENTJ               50   \n",
              "\n",
              "                                               Posts  is E  is S  is T  is J  \n",
              "0    intj moments    sportscenter    plays    pra...     0     0     0     1  \n",
              "1   finding  lack    these posts very alarmingsex...     1     0     1     0  \n",
              "2  good   _____    course  which    know; thats  ...     0     0     1     0  \n",
              "3  dear intp    enjoyed  conversation  other   es...     0     0     1     1  \n",
              "4  youre firedthats another silly misconception t...     1     0     1     1  "
            ],
            "text/html": [
              "\n",
              "  <div id=\"df-d8b6bcbb-16aa-49e9-93c5-716cad881ccb\">\n",
              "    <div class=\"colab-df-container\">\n",
              "      <div>\n",
              "<style scoped>\n",
              "    .dataframe tbody tr th:only-of-type {\n",
              "        vertical-align: middle;\n",
              "    }\n",
              "\n",
              "    .dataframe tbody tr th {\n",
              "        vertical-align: top;\n",
              "    }\n",
              "\n",
              "    .dataframe thead th {\n",
              "        text-align: right;\n",
              "    }\n",
              "</style>\n",
              "<table border=\"1\" class=\"dataframe\">\n",
              "  <thead>\n",
              "    <tr style=\"text-align: right;\">\n",
              "      <th></th>\n",
              "      <th>Unnamed: 0</th>\n",
              "      <th>type</th>\n",
              "      <th>Number of posts</th>\n",
              "      <th>Posts</th>\n",
              "      <th>is E</th>\n",
              "      <th>is S</th>\n",
              "      <th>is T</th>\n",
              "      <th>is J</th>\n",
              "    </tr>\n",
              "  </thead>\n",
              "  <tbody>\n",
              "    <tr>\n",
              "      <th>0</th>\n",
              "      <td>0</td>\n",
              "      <td>INFJ</td>\n",
              "      <td>50</td>\n",
              "      <td>intj moments    sportscenter    plays    pra...</td>\n",
              "      <td>0</td>\n",
              "      <td>0</td>\n",
              "      <td>0</td>\n",
              "      <td>1</td>\n",
              "    </tr>\n",
              "    <tr>\n",
              "      <th>1</th>\n",
              "      <td>1</td>\n",
              "      <td>ENTP</td>\n",
              "      <td>50</td>\n",
              "      <td>finding  lack    these posts very alarmingsex...</td>\n",
              "      <td>1</td>\n",
              "      <td>0</td>\n",
              "      <td>1</td>\n",
              "      <td>0</td>\n",
              "    </tr>\n",
              "    <tr>\n",
              "      <th>2</th>\n",
              "      <td>2</td>\n",
              "      <td>INTP</td>\n",
              "      <td>50</td>\n",
              "      <td>good   _____    course  which    know; thats  ...</td>\n",
              "      <td>0</td>\n",
              "      <td>0</td>\n",
              "      <td>1</td>\n",
              "      <td>0</td>\n",
              "    </tr>\n",
              "    <tr>\n",
              "      <th>3</th>\n",
              "      <td>3</td>\n",
              "      <td>INTJ</td>\n",
              "      <td>50</td>\n",
              "      <td>dear intp    enjoyed  conversation  other   es...</td>\n",
              "      <td>0</td>\n",
              "      <td>0</td>\n",
              "      <td>1</td>\n",
              "      <td>1</td>\n",
              "    </tr>\n",
              "    <tr>\n",
              "      <th>4</th>\n",
              "      <td>4</td>\n",
              "      <td>ENTJ</td>\n",
              "      <td>50</td>\n",
              "      <td>youre firedthats another silly misconception t...</td>\n",
              "      <td>1</td>\n",
              "      <td>0</td>\n",
              "      <td>1</td>\n",
              "      <td>1</td>\n",
              "    </tr>\n",
              "  </tbody>\n",
              "</table>\n",
              "</div>\n",
              "      <button class=\"colab-df-convert\" onclick=\"convertToInteractive('df-d8b6bcbb-16aa-49e9-93c5-716cad881ccb')\"\n",
              "              title=\"Convert this dataframe to an interactive table.\"\n",
              "              style=\"display:none;\">\n",
              "        \n",
              "  <svg xmlns=\"http://www.w3.org/2000/svg\" height=\"24px\"viewBox=\"0 0 24 24\"\n",
              "       width=\"24px\">\n",
              "    <path d=\"M0 0h24v24H0V0z\" fill=\"none\"/>\n",
              "    <path d=\"M18.56 5.44l.94 2.06.94-2.06 2.06-.94-2.06-.94-.94-2.06-.94 2.06-2.06.94zm-11 1L8.5 8.5l.94-2.06 2.06-.94-2.06-.94L8.5 2.5l-.94 2.06-2.06.94zm10 10l.94 2.06.94-2.06 2.06-.94-2.06-.94-.94-2.06-.94 2.06-2.06.94z\"/><path d=\"M17.41 7.96l-1.37-1.37c-.4-.4-.92-.59-1.43-.59-.52 0-1.04.2-1.43.59L10.3 9.45l-7.72 7.72c-.78.78-.78 2.05 0 2.83L4 21.41c.39.39.9.59 1.41.59.51 0 1.02-.2 1.41-.59l7.78-7.78 2.81-2.81c.8-.78.8-2.07 0-2.86zM5.41 20L4 18.59l7.72-7.72 1.47 1.35L5.41 20z\"/>\n",
              "  </svg>\n",
              "      </button>\n",
              "      \n",
              "  <style>\n",
              "    .colab-df-container {\n",
              "      display:flex;\n",
              "      flex-wrap:wrap;\n",
              "      gap: 12px;\n",
              "    }\n",
              "\n",
              "    .colab-df-convert {\n",
              "      background-color: #E8F0FE;\n",
              "      border: none;\n",
              "      border-radius: 50%;\n",
              "      cursor: pointer;\n",
              "      display: none;\n",
              "      fill: #1967D2;\n",
              "      height: 32px;\n",
              "      padding: 0 0 0 0;\n",
              "      width: 32px;\n",
              "    }\n",
              "\n",
              "    .colab-df-convert:hover {\n",
              "      background-color: #E2EBFA;\n",
              "      box-shadow: 0px 1px 2px rgba(60, 64, 67, 0.3), 0px 1px 3px 1px rgba(60, 64, 67, 0.15);\n",
              "      fill: #174EA6;\n",
              "    }\n",
              "\n",
              "    [theme=dark] .colab-df-convert {\n",
              "      background-color: #3B4455;\n",
              "      fill: #D2E3FC;\n",
              "    }\n",
              "\n",
              "    [theme=dark] .colab-df-convert:hover {\n",
              "      background-color: #434B5C;\n",
              "      box-shadow: 0px 1px 3px 1px rgba(0, 0, 0, 0.15);\n",
              "      filter: drop-shadow(0px 1px 2px rgba(0, 0, 0, 0.3));\n",
              "      fill: #FFFFFF;\n",
              "    }\n",
              "  </style>\n",
              "\n",
              "      <script>\n",
              "        const buttonEl =\n",
              "          document.querySelector('#df-d8b6bcbb-16aa-49e9-93c5-716cad881ccb button.colab-df-convert');\n",
              "        buttonEl.style.display =\n",
              "          google.colab.kernel.accessAllowed ? 'block' : 'none';\n",
              "\n",
              "        async function convertToInteractive(key) {\n",
              "          const element = document.querySelector('#df-d8b6bcbb-16aa-49e9-93c5-716cad881ccb');\n",
              "          const dataTable =\n",
              "            await google.colab.kernel.invokeFunction('convertToInteractive',\n",
              "                                                     [key], {});\n",
              "          if (!dataTable) return;\n",
              "\n",
              "          const docLinkHtml = 'Like what you see? Visit the ' +\n",
              "            '<a target=\"_blank\" href=https://colab.research.google.com/notebooks/data_table.ipynb>data table notebook</a>'\n",
              "            + ' to learn more about interactive tables.';\n",
              "          element.innerHTML = '';\n",
              "          dataTable['output_type'] = 'display_data';\n",
              "          await google.colab.output.renderOutput(dataTable, element);\n",
              "          const docLink = document.createElement('div');\n",
              "          docLink.innerHTML = docLinkHtml;\n",
              "          element.appendChild(docLink);\n",
              "        }\n",
              "      </script>\n",
              "    </div>\n",
              "  </div>\n",
              "  "
            ]
          },
          "metadata": {},
          "execution_count": 121
        }
      ]
    },
    {
      "cell_type": "code",
      "source": [
        "data.columns"
      ],
      "metadata": {
        "id": "Nozl59YD3Ujk",
        "colab": {
          "base_uri": "https://localhost:8080/"
        },
        "outputId": "5285b512-c731-4d32-a555-503f92ea76c0"
      },
      "execution_count": null,
      "outputs": [
        {
          "output_type": "execute_result",
          "data": {
            "text/plain": [
              "Index(['Unnamed: 0', 'type', 'Number of posts', 'Posts', 'is E', 'is S',\n",
              "       'is T', 'is J'],\n",
              "      dtype='object')"
            ]
          },
          "metadata": {},
          "execution_count": 122
        }
      ]
    },
    {
      "cell_type": "code",
      "source": [
        "y = pd.DataFrame(data[['is E','is S','is T', 'is J']])\n",
        "x_train,x_test,y_train,y_test = train_test_split(data['Posts'], y,random_state=0)\n",
        "y"
      ],
      "metadata": {
        "id": "f7_Aap-DSJSp",
        "colab": {
          "base_uri": "https://localhost:8080/",
          "height": 424
        },
        "outputId": "df4388aa-5792-4c2e-f59b-dd82018f8c7e"
      },
      "execution_count": null,
      "outputs": [
        {
          "output_type": "execute_result",
          "data": {
            "text/plain": [
              "      is E  is S  is T  is J\n",
              "0        0     0     0     1\n",
              "1        1     0     1     0\n",
              "2        0     0     1     0\n",
              "3        0     0     1     1\n",
              "4        1     0     1     1\n",
              "...    ...   ...   ...   ...\n",
              "7582     0     1     0     0\n",
              "7583     1     0     0     0\n",
              "7584     0     0     1     0\n",
              "7585     0     0     0     0\n",
              "7586     0     0     0     0\n",
              "\n",
              "[7587 rows x 4 columns]"
            ],
            "text/html": [
              "\n",
              "  <div id=\"df-0c9d2299-8df7-4315-ba38-1af0b96a65a3\">\n",
              "    <div class=\"colab-df-container\">\n",
              "      <div>\n",
              "<style scoped>\n",
              "    .dataframe tbody tr th:only-of-type {\n",
              "        vertical-align: middle;\n",
              "    }\n",
              "\n",
              "    .dataframe tbody tr th {\n",
              "        vertical-align: top;\n",
              "    }\n",
              "\n",
              "    .dataframe thead th {\n",
              "        text-align: right;\n",
              "    }\n",
              "</style>\n",
              "<table border=\"1\" class=\"dataframe\">\n",
              "  <thead>\n",
              "    <tr style=\"text-align: right;\">\n",
              "      <th></th>\n",
              "      <th>is E</th>\n",
              "      <th>is S</th>\n",
              "      <th>is T</th>\n",
              "      <th>is J</th>\n",
              "    </tr>\n",
              "  </thead>\n",
              "  <tbody>\n",
              "    <tr>\n",
              "      <th>0</th>\n",
              "      <td>0</td>\n",
              "      <td>0</td>\n",
              "      <td>0</td>\n",
              "      <td>1</td>\n",
              "    </tr>\n",
              "    <tr>\n",
              "      <th>1</th>\n",
              "      <td>1</td>\n",
              "      <td>0</td>\n",
              "      <td>1</td>\n",
              "      <td>0</td>\n",
              "    </tr>\n",
              "    <tr>\n",
              "      <th>2</th>\n",
              "      <td>0</td>\n",
              "      <td>0</td>\n",
              "      <td>1</td>\n",
              "      <td>0</td>\n",
              "    </tr>\n",
              "    <tr>\n",
              "      <th>3</th>\n",
              "      <td>0</td>\n",
              "      <td>0</td>\n",
              "      <td>1</td>\n",
              "      <td>1</td>\n",
              "    </tr>\n",
              "    <tr>\n",
              "      <th>4</th>\n",
              "      <td>1</td>\n",
              "      <td>0</td>\n",
              "      <td>1</td>\n",
              "      <td>1</td>\n",
              "    </tr>\n",
              "    <tr>\n",
              "      <th>...</th>\n",
              "      <td>...</td>\n",
              "      <td>...</td>\n",
              "      <td>...</td>\n",
              "      <td>...</td>\n",
              "    </tr>\n",
              "    <tr>\n",
              "      <th>7582</th>\n",
              "      <td>0</td>\n",
              "      <td>1</td>\n",
              "      <td>0</td>\n",
              "      <td>0</td>\n",
              "    </tr>\n",
              "    <tr>\n",
              "      <th>7583</th>\n",
              "      <td>1</td>\n",
              "      <td>0</td>\n",
              "      <td>0</td>\n",
              "      <td>0</td>\n",
              "    </tr>\n",
              "    <tr>\n",
              "      <th>7584</th>\n",
              "      <td>0</td>\n",
              "      <td>0</td>\n",
              "      <td>1</td>\n",
              "      <td>0</td>\n",
              "    </tr>\n",
              "    <tr>\n",
              "      <th>7585</th>\n",
              "      <td>0</td>\n",
              "      <td>0</td>\n",
              "      <td>0</td>\n",
              "      <td>0</td>\n",
              "    </tr>\n",
              "    <tr>\n",
              "      <th>7586</th>\n",
              "      <td>0</td>\n",
              "      <td>0</td>\n",
              "      <td>0</td>\n",
              "      <td>0</td>\n",
              "    </tr>\n",
              "  </tbody>\n",
              "</table>\n",
              "<p>7587 rows × 4 columns</p>\n",
              "</div>\n",
              "      <button class=\"colab-df-convert\" onclick=\"convertToInteractive('df-0c9d2299-8df7-4315-ba38-1af0b96a65a3')\"\n",
              "              title=\"Convert this dataframe to an interactive table.\"\n",
              "              style=\"display:none;\">\n",
              "        \n",
              "  <svg xmlns=\"http://www.w3.org/2000/svg\" height=\"24px\"viewBox=\"0 0 24 24\"\n",
              "       width=\"24px\">\n",
              "    <path d=\"M0 0h24v24H0V0z\" fill=\"none\"/>\n",
              "    <path d=\"M18.56 5.44l.94 2.06.94-2.06 2.06-.94-2.06-.94-.94-2.06-.94 2.06-2.06.94zm-11 1L8.5 8.5l.94-2.06 2.06-.94-2.06-.94L8.5 2.5l-.94 2.06-2.06.94zm10 10l.94 2.06.94-2.06 2.06-.94-2.06-.94-.94-2.06-.94 2.06-2.06.94z\"/><path d=\"M17.41 7.96l-1.37-1.37c-.4-.4-.92-.59-1.43-.59-.52 0-1.04.2-1.43.59L10.3 9.45l-7.72 7.72c-.78.78-.78 2.05 0 2.83L4 21.41c.39.39.9.59 1.41.59.51 0 1.02-.2 1.41-.59l7.78-7.78 2.81-2.81c.8-.78.8-2.07 0-2.86zM5.41 20L4 18.59l7.72-7.72 1.47 1.35L5.41 20z\"/>\n",
              "  </svg>\n",
              "      </button>\n",
              "      \n",
              "  <style>\n",
              "    .colab-df-container {\n",
              "      display:flex;\n",
              "      flex-wrap:wrap;\n",
              "      gap: 12px;\n",
              "    }\n",
              "\n",
              "    .colab-df-convert {\n",
              "      background-color: #E8F0FE;\n",
              "      border: none;\n",
              "      border-radius: 50%;\n",
              "      cursor: pointer;\n",
              "      display: none;\n",
              "      fill: #1967D2;\n",
              "      height: 32px;\n",
              "      padding: 0 0 0 0;\n",
              "      width: 32px;\n",
              "    }\n",
              "\n",
              "    .colab-df-convert:hover {\n",
              "      background-color: #E2EBFA;\n",
              "      box-shadow: 0px 1px 2px rgba(60, 64, 67, 0.3), 0px 1px 3px 1px rgba(60, 64, 67, 0.15);\n",
              "      fill: #174EA6;\n",
              "    }\n",
              "\n",
              "    [theme=dark] .colab-df-convert {\n",
              "      background-color: #3B4455;\n",
              "      fill: #D2E3FC;\n",
              "    }\n",
              "\n",
              "    [theme=dark] .colab-df-convert:hover {\n",
              "      background-color: #434B5C;\n",
              "      box-shadow: 0px 1px 3px 1px rgba(0, 0, 0, 0.15);\n",
              "      filter: drop-shadow(0px 1px 2px rgba(0, 0, 0, 0.3));\n",
              "      fill: #FFFFFF;\n",
              "    }\n",
              "  </style>\n",
              "\n",
              "      <script>\n",
              "        const buttonEl =\n",
              "          document.querySelector('#df-0c9d2299-8df7-4315-ba38-1af0b96a65a3 button.colab-df-convert');\n",
              "        buttonEl.style.display =\n",
              "          google.colab.kernel.accessAllowed ? 'block' : 'none';\n",
              "\n",
              "        async function convertToInteractive(key) {\n",
              "          const element = document.querySelector('#df-0c9d2299-8df7-4315-ba38-1af0b96a65a3');\n",
              "          const dataTable =\n",
              "            await google.colab.kernel.invokeFunction('convertToInteractive',\n",
              "                                                     [key], {});\n",
              "          if (!dataTable) return;\n",
              "\n",
              "          const docLinkHtml = 'Like what you see? Visit the ' +\n",
              "            '<a target=\"_blank\" href=https://colab.research.google.com/notebooks/data_table.ipynb>data table notebook</a>'\n",
              "            + ' to learn more about interactive tables.';\n",
              "          element.innerHTML = '';\n",
              "          dataTable['output_type'] = 'display_data';\n",
              "          await google.colab.output.renderOutput(dataTable, element);\n",
              "          const docLink = document.createElement('div');\n",
              "          docLink.innerHTML = docLinkHtml;\n",
              "          element.appendChild(docLink);\n",
              "        }\n",
              "      </script>\n",
              "    </div>\n",
              "  </div>\n",
              "  "
            ]
          },
          "metadata": {},
          "execution_count": 123
        }
      ]
    },
    {
      "cell_type": "code",
      "source": [
        "tokenizer = text.Tokenizer(num_words=vocab_size)\n",
        "tokenizer.fit_on_texts(x_train)"
      ],
      "metadata": {
        "id": "QnYe7qbOSjhL"
      },
      "execution_count": null,
      "outputs": []
    },
    {
      "cell_type": "code",
      "source": [
        "x_train = tokenizer.texts_to_matrix(x_train)\n",
        "x_test = tokenizer.texts_to_matrix(x_test)"
      ],
      "metadata": {
        "id": "f3KkhGeiS55d"
      },
      "execution_count": null,
      "outputs": []
    },
    {
      "cell_type": "code",
      "source": [
        "x_train = sequence.pad_sequences(x_train,maxlen=max_len)\n",
        "x_test = sequence.pad_sequences(x_test,maxlen=max_len)"
      ],
      "metadata": {
        "id": "RLrtULO1S92z"
      },
      "execution_count": null,
      "outputs": []
    },
    {
      "cell_type": "markdown",
      "source": [
        "Sequential Neural Network "
      ],
      "metadata": {
        "id": "LAtY7FPwTGfx"
      }
    },
    {
      "cell_type": "code",
      "source": [
        "model = Sequential()\n",
        "# First we add an embedding layer \n",
        "model.add(Embedding(vocab_size,embedding_dims,input_length=max_len)) \n",
        "# Adding a 1D convolutional Layer\n",
        "model.add(Conv1D(filters, ker_size, padding='valid', activation='relu'))\n",
        "# Max Pooling the Convolutions\n",
        "model.add(MaxPooling1D())\n",
        "# Again Computing the Convolutions\n",
        "model.add(Flatten())\n",
        "model.add(Dense(hidden_dims, activation='relu'))\n",
        "model.add(Dense(4, activation='sigmoid'))\n",
        "model.compile(loss='binary_crossentropy', optimizer='adam', metrics=['accuracy'])"
      ],
      "metadata": {
        "id": "nJDriFogTHsz"
      },
      "execution_count": null,
      "outputs": []
    },
    {
      "cell_type": "code",
      "source": [
        "# Training the modeL\n",
        "model.fit(x_train,y_train, batch_size=batch_size, epochs=5, validation_data=(x_test, y_test),)"
      ],
      "metadata": {
        "colab": {
          "base_uri": "https://localhost:8080/"
        },
        "id": "H_JcDZNVTPTz",
        "outputId": "c93478d3-59e4-4494-8d4f-f5c23c5856db"
      },
      "execution_count": null,
      "outputs": [
        {
          "output_type": "stream",
          "name": "stdout",
          "text": [
            "Epoch 1/5\n",
            "178/178 [==============================] - 8s 43ms/step - loss: 0.5455 - accuracy: 0.3121 - val_loss: 0.4889 - val_accuracy: 0.3337\n",
            "Epoch 2/5\n",
            "178/178 [==============================] - 7s 42ms/step - loss: 0.4497 - accuracy: 0.4244 - val_loss: 0.4697 - val_accuracy: 0.3890\n",
            "Epoch 3/5\n",
            "178/178 [==============================] - 7s 42ms/step - loss: 0.4008 - accuracy: 0.4773 - val_loss: 0.4816 - val_accuracy: 0.4918\n",
            "Epoch 4/5\n",
            "178/178 [==============================] - 7s 42ms/step - loss: 0.3637 - accuracy: 0.5076 - val_loss: 0.4586 - val_accuracy: 0.4344\n",
            "Epoch 5/5\n",
            "178/178 [==============================] - 8s 42ms/step - loss: 0.3270 - accuracy: 0.5334 - val_loss: 0.4731 - val_accuracy: 0.4555\n"
          ]
        },
        {
          "output_type": "execute_result",
          "data": {
            "text/plain": [
              "<keras.callbacks.History at 0x7f0d88e4d290>"
            ]
          },
          "metadata": {},
          "execution_count": 128
        }
      ]
    },
    {
      "cell_type": "code",
      "source": [
        "# Saving the model into a pickle file \n",
        "import pickle\n",
        "pickle.dump(model,open('cnn_model.pkl','wb'))"
      ],
      "metadata": {
        "colab": {
          "base_uri": "https://localhost:8080/"
        },
        "id": "99Tdv8wMToeY",
        "outputId": "681f6c63-a972-4ac4-8093-eed680ba0aa4"
      },
      "execution_count": null,
      "outputs": [
        {
          "output_type": "stream",
          "name": "stdout",
          "text": [
            "INFO:tensorflow:Assets written to: ram://06940251-33f9-4b33-aeb8-6386a94570aa/assets\n"
          ]
        }
      ]
    },
    {
      "cell_type": "code",
      "source": [
        "pickle.dump(tokenizer,open('tokenizer','wb'))"
      ],
      "metadata": {
        "id": "IvneaDeDT0UU"
      },
      "execution_count": null,
      "outputs": []
    },
    {
      "cell_type": "markdown",
      "source": [
        "Single testing model:"
      ],
      "metadata": {
        "id": "mN2rCUjCWH2P"
      }
    },
    {
      "cell_type": "code",
      "source": [
        "s ='confident, flexible personalities, who often enjoy taking charge in a situation.'\n",
        "s = pd.Series(s)\n",
        "s= tokenizer.texts_to_matrix(s)\n",
        "s = sequence.pad_sequences(s)\n",
        "l = model.predict(s)"
      ],
      "metadata": {
        "id": "mPUZ8pY-WHi5"
      },
      "execution_count": null,
      "outputs": []
    },
    {
      "cell_type": "code",
      "source": [
        "a,b= l[0][0]*(1/1999), l[0][1]*(1/1197)\n",
        "a = a/(1/1999)+(1/1197)\n",
        "b = b/(1/1999)+(1/1197)"
      ],
      "metadata": {
        "id": "taBW0m4bWOgi"
      },
      "execution_count": null,
      "outputs": []
    },
    {
      "cell_type": "code",
      "source": [
        "l = [a,b,l[0][2],l[0][3]]"
      ],
      "metadata": {
        "id": "cIzQTF32WRHY"
      },
      "execution_count": null,
      "outputs": []
    },
    {
      "cell_type": "code",
      "source": [
        "s=''\n",
        "if l[0] >0.5:\n",
        "    s +='E'\n",
        "else:\n",
        "    s+='I'\n",
        "if l[1] >0.5:\n",
        "    s+='S'\n",
        "else:\n",
        "    s+='N'\n",
        "if l[2] >0.5:\n",
        "    s+='T'\n",
        "else:\n",
        "    s+='F'\n",
        "if l[3] >0.5:\n",
        "    s+='J'\n",
        "else:\n",
        "    s+='P'\n",
        "print('Your Personality is:',s)"
      ],
      "metadata": {
        "colab": {
          "base_uri": "https://localhost:8080/"
        },
        "id": "bRe_Ls4UWTea",
        "outputId": "1c662f9c-4e2d-423e-bf8f-63fafb55568f"
      },
      "execution_count": null,
      "outputs": [
        {
          "output_type": "stream",
          "name": "stdout",
          "text": [
            "Your Personality is: ISFP\n"
          ]
        }
      ]
    }
  ],
  "metadata": {
    "colab": {
      "collapsed_sections": [],
      "name": "final",
      "provenance": [],
      "include_colab_link": true
    },
    "kernelspec": {
      "display_name": "Python 3",
      "name": "python3"
    },
    "language_info": {
      "name": "python"
    }
  },
  "nbformat": 4,
  "nbformat_minor": 0
}